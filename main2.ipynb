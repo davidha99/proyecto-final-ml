{
 "cells": [
  {
   "cell_type": "code",
   "execution_count": 1,
   "metadata": {},
   "outputs": [],
   "source": [
    "import pandas as pd\n",
    "import numpy as np\n",
    "import matplotlib.pyplot as plt\n",
    "#import seaborn as sns"
   ]
  },
  {
   "cell_type": "code",
   "execution_count": 2,
   "metadata": {},
   "outputs": [],
   "source": [
    "steam_description_df = pd.read_csv(\"steam_description_data.csv\")\n",
    "steam_media_df = pd.read_csv(\"steam_media_data.csv\")\n",
    "steam_requirements_df = pd.read_csv(\"steam_requirements_data.csv\")\n",
    "steam_support_df = pd.read_csv(\"steam_support_info.csv\")\n",
    "steam_user = pd.read_csv(\"steam_user_behavior.csv\")\n",
    "steam_df = pd.read_csv(\"steam.csv\")\n",
    "steamspy_tag_df = pd.read_csv(\"steamspy_tag_data.csv\")"
   ]
  },
  {
   "cell_type": "code",
   "execution_count": 3,
   "metadata": {},
   "outputs": [
    {
     "name": "stdout",
     "output_type": "stream",
     "text": [
      "      UserID                        Name  Value_play\n",
      "0  151603712  The Elder Scrolls V Skyrim       273.0\n",
      "1  151603712                   Fallout 4        87.0\n",
      "2  151603712                       Spore        14.9\n",
      "3  151603712           Fallout New Vegas        12.1\n",
      "4  151603712               Left 4 Dead 2         8.9\n"
     ]
    }
   ],
   "source": [
    "# Crear las columnas \"purchase\" y \"play\"\n",
    "purchase_data = steam_user[steam_user['Action'] == 'purchase'].copy()\n",
    "play_data = steam_user[steam_user['Action'] == 'play'].copy()\n",
    "\n",
    "# Agregar la columna \"_purchase\" y \"_play\"\n",
    "purchase_data['Value_purchase'] = 1\n",
    "play_data['Value_play'] = play_data['Value']\n",
    "\n",
    "# Fusionar los datos\n",
    "merged_data = pd.merge(purchase_data, play_data, on=['UserID', 'Name'], how='left')\n",
    "merged_data['Value_play'].fillna(0, inplace=True)\n",
    "\n",
    "# Eliminar columnas innecesarias\n",
    "merged_data.drop(['Action_x', 'Action_y', 'Value_x', 'Value_y'], axis=1, inplace=True)\n",
    "steam_user_clean = merged_data.drop('Value_purchase', axis=1)\n",
    "\n",
    "\n",
    "# Ver el resultado\n",
    "print(steam_user_clean.head())"
   ]
  },
  {
   "cell_type": "code",
   "execution_count": 4,
   "metadata": {},
   "outputs": [
    {
     "name": "stdout",
     "output_type": "stream",
     "text": [
      "      UserID  Name_encoded  Value_play\n",
      "0  151603712          4364       273.0\n",
      "1  151603712          1678        87.0\n",
      "2  151603712          3997        14.9\n",
      "3  151603712          1679        12.1\n",
      "4  151603712          2475         8.9\n"
     ]
    }
   ],
   "source": [
    "from sklearn.preprocessing import LabelEncoder\n",
    "\n",
    "#Crear una instancia del LabelEncoder\n",
    "encoder = LabelEncoder()\n",
    "\n",
    "#Codificar la columna \"Name\"\n",
    "steam_user_clean['Name_encoded'] = encoder.fit_transform(steam_user_clean['Name'])\n",
    "\n",
    "#Eliminar la columna \"Name\"\n",
    "steam_user_clean.drop('Name', axis=1, inplace=True)\n",
    "\n",
    "# Reorganizar las columnas\n",
    "steam_user_clean = steam_user_clean[['UserID', 'Name_encoded', 'Value_play']]\n",
    "\n",
    "print(steam_user_clean.head())"
   ]
  },
  {
   "cell_type": "code",
   "execution_count": 5,
   "metadata": {},
   "outputs": [],
   "source": [
    "from scipy.stats import percentileofscore\n",
    "\n",
    "# Calcular el percentil de las horas jugadas\n",
    "percentiles = steam_user_clean['Value_play'].apply(lambda x: percentileofscore(steam_user_clean['Value_play'], x))\n",
    "\n",
    "# Mapear los percentiles a un rango de 0 a 100\n",
    "rating = percentiles.apply(lambda x: int(x * 100 / 100))\n",
    "\n",
    "# Agregar la columna \"Rating\" al DataFrame\n",
    "steam_user_clean['Rating'] = rating"
   ]
  },
  {
   "cell_type": "code",
   "execution_count": 9,
   "metadata": {},
   "outputs": [],
   "source": [
    "steam_user_clean.head(100)\n",
    "steam_user_clean.to_csv('steam_user_clean.csv', index=False)"
   ]
  },
  {
   "cell_type": "code",
   "execution_count": 10,
   "metadata": {},
   "outputs": [],
   "source": [
    "# Cambiar el nombre de la columna \"appid\" a \"steam_appid\"\n",
    "steam_df.rename(columns={\"appid\": \"steam_appid\"}, inplace=True)\n",
    "steamspy_tag_df.rename(columns={\"appid\": \"steam_appid\"}, inplace=True)"
   ]
  },
  {
   "cell_type": "code",
   "execution_count": 11,
   "metadata": {},
   "outputs": [],
   "source": [
    "#Combinamos los datasets de la info de los videojuegos\n",
    "games_df = steam_description_df.merge(steam_media_df, on=\"steam_appid\").merge(steam_requirements_df, on=\"steam_appid\").merge(steam_support_df, on=\"steam_appid\").merge(steam_df, on=\"steam_appid\").merge(steamspy_tag_df, on=\"steam_appid\")"
   ]
  },
  {
   "cell_type": "code",
   "execution_count": 13,
   "metadata": {},
   "outputs": [],
   "source": [
    "games_df.head()\n",
    "games_df.to_csv('games_df.csv', index=False)"
   ]
  },
  {
   "cell_type": "code",
   "execution_count": 14,
   "metadata": {},
   "outputs": [],
   "source": [
    "# Crear un nuevo DataFrame con columnas seleccionadas\n",
    "games_df_clean = games_df[['steam_appid', 'short_description', 'name','release_date', 'developer', 'platforms','categories', 'genres', 'steamspy_tags','price']]"
   ]
  },
  {
   "cell_type": "code",
   "execution_count": 15,
   "metadata": {},
   "outputs": [],
   "source": [
    "games_df_clean.to_csv('games_df_clean.csv', index=False)"
   ]
  }
 ],
 "metadata": {
  "kernelspec": {
   "display_name": "Class_ML",
   "language": "python",
   "name": "python3"
  },
  "language_info": {
   "codemirror_mode": {
    "name": "ipython",
    "version": 3
   },
   "file_extension": ".py",
   "mimetype": "text/x-python",
   "name": "python",
   "nbconvert_exporter": "python",
   "pygments_lexer": "ipython3",
   "version": "3.9.16"
  },
  "orig_nbformat": 4
 },
 "nbformat": 4,
 "nbformat_minor": 2
}
