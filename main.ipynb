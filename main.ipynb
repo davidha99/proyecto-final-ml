{
 "cells": [
  {
   "attachments": {},
   "cell_type": "markdown",
   "metadata": {},
   "source": [
    "# Proyecto 2 Steam\n",
    "\n",
    "**Objetivo del proyecto:** El propósito de este proyecto es poder elaborar un sistema de recomendación basado en datos reales provistos por la plataforma Steam.\n",
    "\n",
    "El sistema de recomendación sugiere títulos a un usuario en base a lo que ha comprado, jugado y lo que otros usuarios similares a él han comprado y jugado.\n",
    "\n",
    "**Resultados del proyecto**\n",
    "\n",
    "1. Un analisis de la información que se tiene y como podrían sacarle provecho para elaborar\n",
    "un sistema de recomendación.\n",
    "2. Definir una métrica o proceso que les permita evaluar su sistema de recomendación\n",
    "3. Generar un sistema de recomendación, que dado la información de un usuario (ID +\n",
    "Historial de compra y juegos) le recomiende otros juegos.\n",
    "4. Elaborar hipótesis de que información que no se tiene podría mejorar su sistema de recomendación.\n",
    "\n",
    "Autores:\n",
    "- Omar David Hernández Aguirre  | A01383543\n",
    "- Emiliano Daniel Flores Garza  | A00825175\n",
    "\n",
    "Tec de Monterrey  \n",
    "11 de mayo de 2023"
   ]
  }
 ],
 "metadata": {
  "language_info": {
   "name": "python"
  },
  "orig_nbformat": 4
 },
 "nbformat": 4,
 "nbformat_minor": 2
}
